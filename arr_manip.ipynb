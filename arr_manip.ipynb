{
 "cells": [
  {
   "cell_type": "code",
   "execution_count": 19,
   "metadata": {},
   "outputs": [
    {
     "name": "stdout",
     "output_type": "stream",
     "text": [
      "[1 3]\n"
     ]
    },
    {
     "data": {
      "text/plain": [
       "array([4, 1, 5, 6, 2])"
      ]
     },
     "execution_count": 19,
     "metadata": {},
     "output_type": "execute_result"
    }
   ],
   "source": [
    "# Find Local Minima\n",
    "import numpy as np\n",
    "\n",
    "a = np.array([3, 2, 4, 1, 5, 6, 2])\n",
    "\n",
    "# Find local minima\n",
    "local_minima = np.where((a[1:-1] < a[:-2]) & (a[1:-1] < a[2:]))[0] + 1\n",
    "print(local_minima)\n"
   ]
  },
  {
   "cell_type": "code",
   "execution_count": 13,
   "metadata": {},
   "outputs": [
    {
     "name": "stdout",
     "output_type": "stream",
     "text": [
      "[0 2 5 7]\n"
     ]
    }
   ],
   "source": [
    "import numpy as np\n",
    "\n",
    "a = np.array([0,1, 3, 2, 4, 6, 5, 7])\n",
    "\n",
    "# Find peaks\n",
    "peaks = np.where((a[1:-1] > a[:-2]) & (a[1:-1] > a[2:]))[0] + 1\n",
    "peaks = np.concatenate(([0] , peaks, [len(a)-1]))  # Handle edge cases\n",
    "print(peaks)\n"
   ]
  },
  {
   "cell_type": "code",
   "execution_count": 14,
   "metadata": {},
   "outputs": [
    {
     "data": {
      "image/png": "[encoded data removed]",
      "text/plain": [
       "<Figure size 640x480 with 1 Axes>"
      ]
     },
     "metadata": {},
     "output_type": "display_data"
    }
   ],
   "source": [
    "import numpy as np\n",
    "import matplotlib.pyplot as plt\n",
    "\n",
    "# Create a flattened 1D array (example)\n",
    "image = np.arange(256)\n",
    "\n",
    "# Reshape into 16x16 matrix\n",
    "image_reshaped = image.reshape(16, 16)\n",
    "\n",
    "# Plot the reshaped image\n",
    "plt.imshow(image_reshaped, cmap='gray')\n",
    "plt.show()\n"
   ]
  },
  {
   "cell_type": "code",
   "execution_count": 15,
   "metadata": {},
   "outputs": [
    {
     "name": "stdout",
     "output_type": "stream",
     "text": [
      "[4 5]\n"
     ]
    }
   ],
   "source": [
    "# Find Indices of Elements Greater than a Threshold\n",
    "import numpy as np\n",
    "\n",
    "a = np.array([3, 2, 4, 1, 5, 6, 2])\n",
    "threshold = 4\n",
    "\n",
    "# Find indices of elements greater than the threshold\n",
    "indices = np.where(a > threshold)[0]\n",
    "print(indices)\n"
   ]
  },
  {
   "cell_type": "code",
   "execution_count": 20,
   "metadata": {},
   "outputs": [
    {
     "name": "stdout",
     "output_type": "stream",
     "text": [
      "[(np.int64(0), np.int64(1)), (np.int64(2), np.int64(4)), (np.int64(5), np.int64(6))]\n"
     ]
    }
   ],
   "source": [
    "# Find Consecutive Increasing Sequences\n",
    "import numpy as np\n",
    "\n",
    "a = np.array([1, 2, 2, 3, 4, 1, 2])\n",
    "\n",
    "# Find differences between consecutive elements\n",
    "diffs = np.diff(a)\n",
    "\n",
    "# Find where the array is increasing\n",
    "increasing = np.where(diffs > 0)[0]\n",
    "\n",
    "# Group them into consecutive increasing sequences\n",
    "result = []\n",
    "start = increasing[0]\n",
    "for i in range(1, len(increasing)):\n",
    "    if increasing[i] != increasing[i - 1] + 1:\n",
    "        result.append((start, increasing[i - 1] + 1))\n",
    "        start = increasing[i]\n",
    "result.append((start, increasing[-1] + 1))\n",
    "\n",
    "print(result)\n"
   ]
  },
  {
   "cell_type": "code",
   "execution_count": 23,
   "metadata": {},
   "outputs": [
    {
     "name": "stdout",
     "output_type": "stream",
     "text": [
      "[ True False  True  True False False  True  True]\n",
      "[(0, 1), (2, 4)]\n"
     ]
    }
   ],
   "source": [
    "# Find Plateaus (Constant Subarrays)\n",
    "import numpy as np\n",
    "\n",
    "a = np.array([3, 3, 2, 2, 2, 5, 6, 6, 6])\n",
    "\n",
    "# Find where consecutive elements are the same\n",
    "same = np.diff(a) == 0\n",
    "\n",
    "# Group them into plateaus\n",
    "print(same)\n",
    "result = []\n",
    "start = 0\n",
    "for i in range(1, len(same)):\n",
    "    if not same[i] and same[i - 1]:\n",
    "        result.append((start, i))\n",
    "    if not same[i]:\n",
    "        start = i + 1\n",
    "\n",
    "print(result)\n"
   ]
  },
  {
   "cell_type": "code",
   "execution_count": 25,
   "metadata": {},
   "outputs": [
    {
     "name": "stdout",
     "output_type": "stream",
     "text": [
      "6\n"
     ]
    }
   ],
   "source": [
    "# Find the Maximum Difference Between Two Consecutive Elements\n",
    "import numpy as np\n",
    "\n",
    "a = np.array([1, 5, 3, 8, 2])\n",
    "\n",
    "# Find the difference between consecutive elements\n",
    "differences = np.abs(np.diff(a))\n",
    "\n",
    "# Find the maximum difference\n",
    "max_diff = np.max(differences)\n",
    "print(max_diff)\n"
   ]
  },
  {
   "cell_type": "code",
   "execution_count": 28,
   "metadata": {},
   "outputs": [
    {
     "name": "stdout",
     "output_type": "stream",
     "text": [
      "3.8\n",
      "Above Mean: 2, Below Mean: 3\n"
     ]
    }
   ],
   "source": [
    "# Count Elements Above and Below the Mean\n",
    "import numpy as np\n",
    "\n",
    "a = np.array([1, 5, 3, 8, 2])\n",
    "\n",
    "# Calculate the mean\n",
    "mean_val = np.mean(a)\n",
    "# print(mean_val)\n",
    "\n",
    "# Count elements above and below the mean\n",
    "above_mean = np.sum(a > mean_val)\n",
    "below_mean = np.sum(a < mean_val)\n",
    "\n",
    "print(f\"Above Mean: {above_mean}, Below Mean: {below_mean}\")\n"
   ]
  },
  {
   "cell_type": "code",
   "execution_count": 30,
   "metadata": {},
   "outputs": [
    {
     "name": "stdout",
     "output_type": "stream",
     "text": [
      "2\n"
     ]
    }
   ],
   "source": [
    "# Find the Index of the First Element Greater than X\n",
    "import numpy as np\n",
    "\n",
    "a = np.array([1, 3, 7, 9, 2])\n",
    "X = 6\n",
    "\n",
    "# Find the index of the first element greater than X\n",
    "index = np.argmax(a > X)\n",
    "print(index)\n"
   ]
  },
  {
   "cell_type": "code",
   "execution_count": 33,
   "metadata": {},
   "outputs": [
    {
     "name": "stdout",
     "output_type": "stream",
     "text": [
      "[0 3 0 9 2]\n"
     ]
    }
   ],
   "source": [
    "# Replace Negative Numbers with Zero\n",
    "import numpy as np\n",
    "\n",
    "a = np.array([-1, 3, -7, 9, 2])\n",
    "\n",
    "# Replace negative values with zero\n",
    "a[a < 0] = 0\n",
    "print(a)\n"
   ]
  },
  {
   "cell_type": "code",
   "execution_count": 35,
   "metadata": {},
   "outputs": [
    {
     "name": "stdout",
     "output_type": "stream",
     "text": [
      "5\n"
     ]
    }
   ],
   "source": [
    "# Find Index of Maximum Peak\n",
    "import numpy as np\n",
    "\n",
    "a = np.array([1, 3, 7, 6, 2, 9, 4])\n",
    "\n",
    "# Find peaks\n",
    "peaks = np.where((a[1:-1] > a[:-2]) & (a[1:-1] > a[2:]))[0] + 1\n",
    "\n",
    "# Find the maximum peak\n",
    "max_peak_index = peaks[np.argmax(a[peaks])]\n",
    "print(max_peak_index)\n"
   ]
  },
  {
   "cell_type": "code",
   "execution_count": 36,
   "metadata": {},
   "outputs": [
    {
     "name": "stdout",
     "output_type": "stream",
     "text": [
      "[2 3 2]\n"
     ]
    }
   ],
   "source": [
    "# Find the Difference Between Successive Elements\n",
    "import numpy as np\n",
    "\n",
    "a = np.array([1, 3, 6, 8])\n",
    "\n",
    "# Compute the difference between consecutive elements\n",
    "differences = np.diff(a)\n",
    "print(differences)\n"
   ]
  }
 ],
 "metadata": {
  "kernelspec": {
   "display_name": "Python 3",
   "language": "python",
   "name": "python3"
  },
  "language_info": {
   "codemirror_mode": {
    "name": "ipython",
    "version": 3
   },
   "file_extension": ".py",
   "mimetype": "text/x-python",
   "name": "python",
   "nbconvert_exporter": "python",
   "pygments_lexer": "ipython3",
   "version": "3.12.1"
  }
 },
 "nbformat": 4,
 "nbformat_minor": 2
}
