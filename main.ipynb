{
 "cells": [
  {
   "cell_type": "code",
   "execution_count": null,
   "metadata": {},
   "outputs": [],
   "source": [
    "print(\"hello\")"
   ]
  },
  {
   "cell_type": "code",
   "execution_count": null,
   "metadata": {},
   "outputs": [],
   "source": [
    "import numpy as np\n",
    "a=np.array([1,2,3])\n",
    "a\n",
    "b=np.array([[1,2,3],[4,5,6]])\n",
    "b"
   ]
  },
  {
   "cell_type": "code",
   "execution_count": null,
   "metadata": {},
   "outputs": [],
   "source": [
    "class Employee:\n",
    "\n",
    "    count = 0\n",
    "    #constructor\n",
    "    def __init__(self,name,age): \n",
    "        self.name=name\n",
    "        self.age=age\n",
    "        Employee.count+=1\n",
    "\n",
    "    def getDetails(self):\n",
    "        print (f\"{self.name} is {self.age} years old\")\n",
    "\n",
    "    def __str__(self):\n",
    "        return f\"{self.name} is {self.age} years old in str\"\n",
    "    \n",
    "    def __repr__(self):\n",
    "        return f\"{self.name} is {self.age} years old in repr\"\n",
    "\n",
    "\n",
    "\n",
    "alan = Employee(\"Alan Walker\", 25)\n",
    "alan.getDetails()\n",
    "print(alan)\n",
    "\n",
    "\n",
    "bob = Employee(\"Bob Marley\", 30)\n",
    "bob.getDetails()\n",
    "print(bob)\n",
    "alan\n"
   ]
  },
  {
   "cell_type": "code",
   "execution_count": null,
   "metadata": {},
   "outputs": [],
   "source": [
    "import numpy as np\n",
    "a = np.array([1,4,2,3])\n",
    "# a[2:-1]\n",
    "a[0]=5\n",
    "a\n",
    "a.sort()\n",
    "a\n"
   ]
  },
  {
   "cell_type": "code",
   "execution_count": null,
   "metadata": {},
   "outputs": [],
   "source": [
    "mat = np.array([[1,2,3],[4,5,6],[7,8,9]],dtype=np.float64)\n",
    "mat\n",
    "mat.ndim\n",
    "mat.shape\n",
    "mat.size\n",
    "mat.dtype\n",
    "\n"
   ]
  },
  {
   "cell_type": "code",
   "execution_count": null,
   "metadata": {},
   "outputs": [],
   "source": [
    "a=1000000000000000000000000000000000000000000000000000000000000000000000000000000000000000000000000\n",
    "b=2903472934729047592875902749327492734923794872389457923759823759827489237497263945872389479879923784972\n",
    "\n",
    "a+b"
   ]
  },
  {
   "cell_type": "code",
   "execution_count": null,
   "metadata": {},
   "outputs": [],
   "source": [
    "# a=np.empty(10)\n",
    "# a=np.zeros(10)\n",
    "a=np.ones(10)\n",
    "a\n",
    "print(a.__repr__())\n",
    "print(a.__str__())"
   ]
  },
  {
   "cell_type": "code",
   "execution_count": null,
   "metadata": {},
   "outputs": [],
   "source": [
    "# a=np.arange(1,10,4)\n",
    "a=np.linspace(0,1,5,dtype=np.float64)\n",
    "a"
   ]
  },
  {
   "cell_type": "code",
   "execution_count": null,
   "metadata": {},
   "outputs": [],
   "source": [
    "a=np.random.random((2,3))\n",
    "print(np.sort(a))\n",
    "print(a)\n",
    "a.sort()\n",
    "print(a)"
   ]
  },
  {
   "cell_type": "code",
   "execution_count": null,
   "metadata": {},
   "outputs": [],
   "source": [
    "a=[1,3,2,6,3,1]\n",
    "b=[5,3,2,4,5,2]\n",
    "\n",
    "c=a*3+b*2\n",
    "c"
   ]
  },
  {
   "cell_type": "code",
   "execution_count": null,
   "metadata": {},
   "outputs": [],
   "source": [
    "a=np.array([1,3,2,6,3,1])\n",
    "b=np.array([5,3,2,4,5,2])\n",
    "\n",
    "# c=np.concatenate((a,b))\n",
    "c=a.reshape(2,3)\n",
    "print(c,c.T)"
   ]
  },
  {
   "cell_type": "code",
   "execution_count": null,
   "metadata": {},
   "outputs": [],
   "source": [
    "a=np.array([1,3,2,6,3,1])\n",
    "b=np.array([5,3,2,4,5,2])\n",
    "\n",
    "boolean_arr = a>3\n",
    "# print(boolean_arr)\n",
    "# print(b<3)\n",
    "a[boolean_arr]\n",
    "a[[True,False,True,True,False,False]]\n",
    "x=a[(a>5) | (a<3)]\n",
    "y=[]\n",
    "for i in a:\n",
    "    if(i>5 or i<3):\n",
    "        y.append(i)\n",
    "\n",
    "print(y,x)\n"
   ]
  },
  {
   "cell_type": "code",
   "execution_count": null,
   "metadata": {},
   "outputs": [],
   "source": [
    "a1=np.array([[1,2],[3,4]])\n",
    "a2=np.array([[5,6],[7,8]])\n",
    "np.vstack((a1,a2))\n",
    "np.hstack((a1,a2))\n",
    "\n",
    "a=np.array([1,3,2,6,3,1])\n",
    "np.hsplit(a,2)"
   ]
  },
  {
   "cell_type": "code",
   "execution_count": null,
   "metadata": {},
   "outputs": [],
   "source": [
    "a = np.array([1,2,3,4,5,6,7,8,9])\n",
    "b = np.array([3,5,9,1,2,7,1,3,4])\n",
    "a+b\n",
    "a*2\n",
    "a**2\n",
    "a+1\n",
    "a-5\n",
    "3+a\n",
    "a.max()\n",
    "a/a.max()\n",
    "c = np.vstack((a,b))\n",
    "c\n",
    "c.max() #max of entire array\n",
    "c.max(axis=0) #max of each column\n",
    "c.max(axis=1) #max of each row\n",
    "\n",
    "x = np.array([[1,2],[3,4],[5,6]])\n",
    "y = np.array([[7,8]])\n",
    "x+y #broadcasting\n",
    "unique, counts = np.unique(b, return_counts=True)\n",
    "unique, counts\n",
    "\n",
    "np.square(a)"
   ]
  },
  {
   "cell_type": "code",
   "execution_count": null,
   "metadata": {},
   "outputs": [],
   "source": [
    "import matplotlib.pyplot as plt\n",
    "\n",
    "x=np.linspace(0,2,100)\n",
    "y=x**2\n",
    "\n",
    "plt.figure(figsize=(4,4),layout=\"constrained\")\n",
    "plt.plot(x,y,label=\"y=x^2\") \n",
    "plt.plot(x,x)\n",
    "plt.plot(x,y**3)\n",
    "plt.title(\"Square\")\n",
    "plt.legend()\n"
   ]
  },
  {
   "cell_type": "code",
   "execution_count": null,
   "metadata": {},
   "outputs": [],
   "source": [
    "x = np.random.uniform(0,1,100)\n",
    "y = np.random.uniform(0,1,100)\n",
    "\n",
    "# plt.scatter(x,y)\n",
    "\n",
    "X = np.random.uniform(0,1,(8,8))\n",
    "# plt.matshow(X)\n",
    "plt.imshow(X,cmap='hot',interpolation='nearest')"
   ]
  },
  {
   "cell_type": "code",
   "execution_count": null,
   "metadata": {},
   "outputs": [],
   "source": [
    "Z = np.random.uniform(0,1,(10,10))\n",
    "Y = np.random.normal(0,1,(100,3))\n",
    "\n",
    "fig,axs = plt.subplots(2,2,figsize=(8,8),layout='constrained')\n",
    "axs[0,0].imshow(Z,cmap='Blues')\n",
    "axs[0,1].contour(Z,cmap='Blues')\n",
    "axs[1,0].boxplot(Y)\n",
    "axs[1,1].violinplot(Y,showmedians=True)\n"
   ]
  },
  {
   "cell_type": "code",
   "execution_count": null,
   "metadata": {},
   "outputs": [],
   "source": [
    "import numpy as np\n",
    "import matplotlib.pyplot as plt\n",
    "\n",
    "def sine_wave_fft(frequency, sampling_rate, duration):\n",
    "    t = np.linspace(0, duration, int(sampling_rate * duration), endpoint=False)\n",
    "    sine_wave = np.sin(2 * np.pi * frequency * t)\n",
    "    \n",
    "    # Compute the FFT\n",
    "    fft_sine = np.fft.fft(sine_wave)\n",
    "    freqs = np.fft.fftfreq(len(sine_wave), 1 / sampling_rate)\n",
    "    \n",
    "    # Plot the sine wave\n",
    "    plt.subplot(2, 1, 1)\n",
    "    plt.plot(t, sine_wave)\n",
    "    plt.title('Sine Wave')\n",
    "    \n",
    "    # Plot the magnitude of the FFT\n",
    "    plt.subplot(2, 1, 2)\n",
    "    plt.plot(freqs, np.abs(fft_sine))\n",
    "    plt.title('FFT Magnitude')\n",
    "    plt.show()\n",
    "\n",
    "# Test: sine_wave_fft(5, 100, 1) for a 5Hz signal with 100Hz sampling rate\n",
    "sine_wave_fft(5, 100, 1)"
   ]
  },
  {
   "cell_type": "code",
   "execution_count": null,
   "metadata": {},
   "outputs": [],
   "source": [
    "a=np.array([0,1,2,3,4,5])\n",
    "resh = a.reshape(2,3).T\n",
    "resh\n",
    "\n",
    "#more efficient way to do the above\n",
    "np.arange(6).reshape(2,3).T\n"
   ]
  },
  {
   "cell_type": "code",
   "execution_count": null,
   "metadata": {},
   "outputs": [],
   "source": [
    "#empty and full arr\n",
    "a = np.empty((3,4),dtype=int)\n",
    "# print(a)\n",
    "b = np.full((3,4),5,dtype=int)\n",
    "# print(b)\n",
    "c = np.ones((3,4),dtype=int)\n",
    "print(c)"
   ]
  },
  {
   "cell_type": "code",
   "execution_count": null,
   "metadata": {},
   "outputs": [],
   "source": [
    "arr = np.array([[1, 2, 3, 4, 5], \n",
    "                   [6, 7, 8, 9, 10], \n",
    "                   [11, 12, 13, 14, 15], \n",
    "                   [16, 17, 18, 19, 20] \n",
    "                   ]) \n",
    "\n",
    "print([1,2,3,4,5] in arr.tolist())\n",
    "print([1,2,3,4] in arr.tolist())"
   ]
  },
  {
   "cell_type": "code",
   "execution_count": null,
   "metadata": {},
   "outputs": [],
   "source": [
    "print(1)"
   ]
  }
 ],
 "metadata": {
  "kernelspec": {
   "display_name": "Python 3",
   "language": "python",
   "name": "python3"
  },
  "language_info": {
   "codemirror_mode": {
    "name": "ipython",
    "version": 3
   },
   "file_extension": ".py",
   "mimetype": "text/x-python",
   "name": "python",
   "nbconvert_exporter": "python",
   "pygments_lexer": "ipython3",
   "version": "3.12.1"
  }
 },
 "nbformat": 4,
 "nbformat_minor": 2
}
