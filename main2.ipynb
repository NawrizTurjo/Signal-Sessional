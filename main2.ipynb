{
 "cells": [
  {
   "cell_type": "code",
   "execution_count": null,
   "metadata": {},
   "outputs": [],
   "source": [
    "import numpy as np\n",
    "import matplotlib.pyplot as plt\n",
    "\n",
    "a = np.arange(0,10,1).reshape(2,5)\n",
    "a[1] = a[1][::-1]\n",
    "a.T"
   ]
  },
  {
   "cell_type": "code",
   "execution_count": null,
   "metadata": {},
   "outputs": [],
   "source": [
    "# array reverse\n",
    "a = np.arange(0,10,1)\n",
    "a = a[::-1]\n",
    "\n",
    "# sort array\n",
    "x = np.sort(a)\n",
    "# a not sorted x is sorted copy of a\n",
    "print(a)\n",
    "# x = a.sort()\n",
    "x"
   ]
  },
  {
   "cell_type": "code",
   "execution_count": null,
   "metadata": {},
   "outputs": [],
   "source": [
    "a = np.array([1,7,2,8,3])\n",
    "b = np.array([2,9,8,6,9])\n",
    "\n",
    "\n",
    "np.vstack((a,b)).T.ravel()\n"
   ]
  },
  {
   "cell_type": "code",
   "execution_count": 98,
   "metadata": {},
   "outputs": [
    {
     "data": {
      "text/plain": [
       "array([ 1,  9,  2, 10,  3, 11,  4, 12,  5, 13,  6, 14,  7, 15,  8, 16])"
      ]
     },
     "execution_count": 98,
     "metadata": {},
     "output_type": "execute_result"
    }
   ],
   "source": [
    "a = np.array([[1, 2, 3, 4],\n",
    " [5, 6, 7, 8],\n",
    " [9, 10, 11, 12],\n",
    " [13, 14, 15, 16]])\n",
    "# b = a[1::2]\n",
    "# c = a[0::2]\n",
    "# b=b.T.ravel()\n",
    "# c=c.T.ravel()\n",
    "np.concatenate((a[::2].T.ravel(),a[1::2].T.ravel()))\n",
    "\n",
    "#alternate solution\n",
    "# np.vstack((a[::2], a[1::2])).T.flatten()"
   ]
  },
  {
   "cell_type": "code",
   "execution_count": 92,
   "metadata": {},
   "outputs": [
    {
     "data": {
      "text/plain": [
       "array([[ 1,  2,  3],\n",
       "       [10, 11, 12],\n",
       "       [ 4,  5,  6],\n",
       "       [13, 14, 15],\n",
       "       [ 7,  8,  9],\n",
       "       [16, 17, 18]])"
      ]
     },
     "execution_count": 92,
     "metadata": {},
     "output_type": "execute_result"
    }
   ],
   "source": [
    "A = np.array([[1, 2, 3], [4, 5, 6], [7, 8, 9]])\n",
    "B = np.array([[10, 11, 12], [13, 14, 15], [16, 17, 18]])\n",
    "\n",
    "np.hstack((A,B)).reshape(6,3)"
   ]
  },
  {
   "cell_type": "code",
   "execution_count": null,
   "metadata": {},
   "outputs": [],
   "source": [
    "a=np.array([[1, 2, 3],\n",
    " [4, 5, 6],\n",
    " [7, 8, 9]]\n",
    ")\n",
    "np.rot90(a, -1) #-1 indicates clockwise rotation\n"
   ]
  },
  {
   "cell_type": "code",
   "execution_count": null,
   "metadata": {},
   "outputs": [],
   "source": [
    "a = np.array([[1, 2, 3, 4],\n",
    " [5, 6, 7, 8],\n",
    " [9, 10, 11, 12],\n",
    " [13, 14, 15, 16]]\n",
    ")\n",
    "a.T.ravel()"
   ]
  },
  {
   "cell_type": "code",
   "execution_count": null,
   "metadata": {},
   "outputs": [],
   "source": [
    "a = np.array([[1,2,3],[4,5,6],[7,8,9]])\n",
    "b =np.array([10,11,12])\n",
    "a+b"
   ]
  },
  {
   "cell_type": "code",
   "execution_count": null,
   "metadata": {},
   "outputs": [],
   "source": [
    "a = np.array([[1, 2, 3],\n",
    " [4, 5, 6],\n",
    " [7, 8, 9]]\n",
    ")\n",
    "np.triu(a) #upper triangle\n",
    "np.tril(a) #lower triangle"
   ]
  },
  {
   "cell_type": "code",
   "execution_count": null,
   "metadata": {},
   "outputs": [],
   "source": [
    "A = np.array([[1, 2],\n",
    "              [3, 4]])\n",
    "\n",
    "B = np.array([[5, 6],\n",
    "              [7, 8]])\n",
    "\n",
    "np.block([[A,np.zeros((2,2))],[np.zeros((2,2)),B]])"
   ]
  },
  {
   "cell_type": "code",
   "execution_count": null,
   "metadata": {},
   "outputs": [],
   "source": [
    "A = np.array([[1, 2, 3],\n",
    "              [4, 5, 6],\n",
    "              [7, 8, 9]])\n",
    "np.pad(A, pad_width=1, mode='constant', constant_values=0)"
   ]
  },
  {
   "cell_type": "code",
   "execution_count": null,
   "metadata": {},
   "outputs": [],
   "source": [
    "image = np.arange(10000)\n",
    "\n",
    "image_reshaped = image.reshape(100, 100)\n",
    "\n",
    "plt.imshow(image_reshaped, cmap='gray')\n",
    "plt.show()"
   ]
  },
  {
   "cell_type": "code",
   "execution_count": 85,
   "metadata": {},
   "outputs": [
    {
     "name": "stdout",
     "output_type": "stream",
     "text": [
      "[1 4 6]\n"
     ]
    }
   ],
   "source": [
    "a = np.array([1, 3, 2, 4, 6, 5, 7])\n",
    "\n",
    "peaks = np.where((a[1:-1] > a[:-2]) & (a[1:-1] > a[2:]))[0] + 1\n",
    "peaks = np.concatenate((peaks, [len(a)-1])) \n",
    "print(peaks)"
   ]
  },
  {
   "cell_type": "code",
   "execution_count": 100,
   "metadata": {},
   "outputs": [
    {
     "data": {
      "text/plain": [
       "np.float64(-4.310559603414099)"
      ]
     },
     "execution_count": 100,
     "metadata": {},
     "output_type": "execute_result"
    }
   ],
   "source": [
    "y_actual = np.array([1.3, 2.5, 3.8, 4.7, 5.1])\n",
    "y_predicted = np.array([1.12, 2.3, 2.9, 4.5, 5.0])\n",
    "m = len(y_actual)\n",
    "\n",
    "error = -1/m * np.sum(y_actual * np.log(y_predicted))\n",
    "error"
   ]
  },
  {
   "cell_type": "code",
   "execution_count": 101,
   "metadata": {},
   "outputs": [
    {
     "data": {
      "text/plain": [
       "array([7.83409892e-05, 2.12952887e-04, 5.78865964e-04, 1.57352083e-03,\n",
       "       7.83409892e-05, 1.16268337e-02, 3.16050107e-02, 8.59113264e-02,\n",
       "       2.33531197e-01, 6.34803610e-01])"
      ]
     },
     "execution_count": 101,
     "metadata": {},
     "output_type": "execute_result"
    }
   ],
   "source": [
    "#softmax function\n",
    "x = np.array([1, 2, 3, 4, 1, 6, 7, 8, 9, 10])\n",
    "np.exp(x) / np.sum(np.exp(x))"
   ]
  },
  {
   "cell_type": "code",
   "execution_count": 106,
   "metadata": {},
   "outputs": [
    {
     "name": "stdout",
     "output_type": "stream",
     "text": [
      "18.647999999999996%\n",
      "18.648%\n"
     ]
    }
   ],
   "source": [
    "y_actual = np.array([1.3, 2.5, 3.8, 4.7, 5.1])\n",
    "y_predicted = np.array([1.12, 2.3, 2.9, 4.5, 5.0])\n",
    "n = len(y_actual)\n",
    "\n",
    "error = 1/n * np.sum(np.square(y_predicted - y_actual))\n",
    "print(str(error*100)+ \"%\")\n",
    "# error in 3 point precision\n",
    "print(\"{:.3f}\".format(error*100)+ \"%\")"
   ]
  }
 ],
 "metadata": {
  "kernelspec": {
   "display_name": "Python 3",
   "language": "python",
   "name": "python3"
  },
  "language_info": {
   "codemirror_mode": {
    "name": "ipython",
    "version": 3
   },
   "file_extension": ".py",
   "mimetype": "text/x-python",
   "name": "python",
   "nbconvert_exporter": "python",
   "pygments_lexer": "ipython3",
   "version": "3.12.1"
  }
 },
 "nbformat": 4,
 "nbformat_minor": 2
}
